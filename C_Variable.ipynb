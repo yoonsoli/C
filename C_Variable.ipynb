{
  "nbformat": 4,
  "nbformat_minor": 0,
  "metadata": {
    "colab": {
      "provenance": [],
      "authorship_tag": "ABX9TyMSxHxLBLVPzAL/DMGBCVsG",
      "include_colab_link": true
    },
    "kernelspec": {
      "name": "python3",
      "display_name": "Python 3"
    },
    "language_info": {
      "name": "python"
    }
  },
  "cells": [
    {
      "cell_type": "markdown",
      "metadata": {
        "id": "view-in-github",
        "colab_type": "text"
      },
      "source": [
        "<a href=\"https://colab.research.google.com/github/yoonsoli/C/blob/main/C_Variable.ipynb\" target=\"_parent\"><img src=\"https://colab.research.google.com/assets/colab-badge.svg\" alt=\"Open In Colab\"/></a>"
      ]
    },
    {
      "cell_type": "markdown",
      "source": [
        "# 변수"
      ],
      "metadata": {
        "id": "hG37XE2Zr8yP"
      }
    },
    {
      "cell_type": "markdown",
      "source": [
        "### 변수 선언"
      ],
      "metadata": {
        "id": "zp6WJur1u54E"
      }
    },
    {
      "cell_type": "code",
      "execution_count": null,
      "metadata": {
        "colab": {
          "base_uri": "https://localhost:8080/"
        },
        "id": "f13JaW0YrtQV",
        "outputId": "40cae1e3-9a6e-4b37-b5bd-cb626e2502b9"
      },
      "outputs": [
        {
          "output_type": "stream",
          "name": "stdout",
          "text": [
            "Overwriting test.cpp\n"
          ]
        }
      ],
      "source": [
        "%%writefile test.cpp\n",
        "#include <stdio.h>\n",
        "int main()\n",
        "{\n",
        "    int a;  // a라는 변수 선언\n",
        "    a = 10; // a에 10을 집어 넣음\n",
        "    printf(\"a 의 값은 : %d \\n\", a); // %d는 a의 값 (정확히는 처음\"\"다음에 오는 첫 번째 변수)을 10진수로 출력하라는 말\n",
        "    return 0;\n",
        "}"
      ]
    },
    {
      "cell_type": "code",
      "source": [
        "#C 컴파일\n",
        "%%shell\n",
        "g++ test.cpp -o testexe\n",
        "./testexe"
      ],
      "metadata": {
        "colab": {
          "base_uri": "https://localhost:8080/"
        },
        "id": "eQuKl88LsmVA",
        "outputId": "30e0d4be-6aa4-487f-afbe-c39699bdda68"
      },
      "execution_count": null,
      "outputs": [
        {
          "output_type": "stream",
          "name": "stdout",
          "text": [
            "a 의 값은 : 10 \n"
          ]
        },
        {
          "output_type": "execute_result",
          "data": {
            "text/plain": []
          },
          "metadata": {},
          "execution_count": 10
        }
      ]
    },
    {
      "cell_type": "code",
      "source": [
        "# %d 활용 예제\n",
        "\n",
        "%%writefile test.cpp\n",
        "#include <stdio.h>\n",
        "int main()\n",
        "{\n",
        "   int a;\n",
        "   a = 127;\n",
        "   printf(\"a 의 값은 %d 진수로 %o 입니다. \\n\", 8, a);\n",
        "   printf(\"a 의 값은 %d 진수로 %d 입니다. \\n\", 10, a);\n",
        "   printf(\"a 의 값은 %d 진수로 %x 입니다. \\n\", 16, a);\n",
        "   return 0;\n",
        "}"
      ],
      "metadata": {
        "colab": {
          "base_uri": "https://localhost:8080/"
        },
        "id": "_n0gXaNWsqMW",
        "outputId": "6086f712-f8b3-455e-802c-56de4bbdbe41"
      },
      "execution_count": null,
      "outputs": [
        {
          "output_type": "stream",
          "name": "stdout",
          "text": [
            "Overwriting test.cpp\n"
          ]
        }
      ]
    },
    {
      "cell_type": "markdown",
      "source": [
        "첫번째 코드에서 %d에 8, %o에 a(127)이 들어감 <br/>\n",
        "%o는 a의 값을 8진수로 출력하라는 뜻 <br/>\n",
        "%x는 a의 값을 16진수로 출력하라는 뜻"
      ],
      "metadata": {
        "id": "ut_2UDXButJZ"
      }
    },
    {
      "cell_type": "code",
      "source": [
        "#C 컴파일\n",
        "%%shell\n",
        "g++ test.cpp -o testexe\n",
        "./testexe"
      ],
      "metadata": {
        "colab": {
          "base_uri": "https://localhost:8080/"
        },
        "id": "pyngZMShufPQ",
        "outputId": "734eadc1-1518-4543-d3b3-1e8f989fb77b"
      },
      "execution_count": null,
      "outputs": [
        {
          "output_type": "stream",
          "name": "stdout",
          "text": [
            "a 의 값은 8 진수로 177 입니다. \n",
            "a 의 값은 10 진수로 127 입니다. \n",
            "a 의 값은 16 진수로 7f 입니다. \n"
          ]
        },
        {
          "output_type": "execute_result",
          "data": {
            "text/plain": []
          },
          "metadata": {},
          "execution_count": 14
        }
      ]
    },
    {
      "cell_type": "code",
      "source": [
        "# 실수형 변수\n",
        "\n",
        "%%writefile test.cpp\n",
        "#include <stdio.h>\n",
        "int main()\n",
        "{\n",
        "   float a = 3.141592f;\n",
        "   double b = 3.141592;\n",
        "   printf(\"a : %f \\n\", a);\n",
        "   printf(\"b : %f \\n\", b);\n",
        "   return 0;\n",
        "}"
      ],
      "metadata": {
        "id": "opHnisE7ugrJ",
        "colab": {
          "base_uri": "https://localhost:8080/"
        },
        "outputId": "2aa2c8ce-35a9-44c8-a4d8-af1ec326604f"
      },
      "execution_count": 3,
      "outputs": [
        {
          "output_type": "stream",
          "name": "stdout",
          "text": [
            "Overwriting test.cpp\n"
          ]
        }
      ]
    },
    {
      "cell_type": "code",
      "source": [
        "#C 컴파일\n",
        "%%shell\n",
        "g++ test.cpp -o testexe\n",
        "./testexe"
      ],
      "metadata": {
        "colab": {
          "base_uri": "https://localhost:8080/"
        },
        "id": "eNUWiAJ1j0PB",
        "outputId": "b5acf40e-063c-474c-ecfa-2c18274edf10"
      },
      "execution_count": 4,
      "outputs": [
        {
          "output_type": "stream",
          "name": "stdout",
          "text": [
            "a : 3.141592 \n",
            "b : 3.141592 \n"
          ]
        },
        {
          "output_type": "execute_result",
          "data": {
            "text/plain": []
          },
          "metadata": {},
          "execution_count": 4
        }
      ]
    },
    {
      "cell_type": "markdown",
      "source": [
        "float은 double 형으로 인식할 수 있기 때문에 f를 끝에 붙여 표시 해준다.\n"
      ],
      "metadata": {
        "id": "I9oadp01kAeN"
      }
    },
    {
      "cell_type": "code",
      "source": [
        "#%f\n",
        "\n",
        "%%writefile test.cpp\n",
        "#include <stdio.h>\n",
        "int main() {\n",
        "  printf(\"%f\",  1);\n",
        "}"
      ],
      "metadata": {
        "colab": {
          "base_uri": "https://localhost:8080/"
        },
        "id": "p5_iYA9dj075",
        "outputId": "d618b94f-2829-4128-a9fa-e077e096a93b"
      },
      "execution_count": 9,
      "outputs": [
        {
          "output_type": "stream",
          "name": "stdout",
          "text": [
            "Overwriting test.cpp\n"
          ]
        }
      ]
    },
    {
      "cell_type": "code",
      "source": [
        "#C 컴파일\n",
        "%%shell\n",
        "g++ test.cpp -o testexe\n",
        "./testexe"
      ],
      "metadata": {
        "colab": {
          "base_uri": "https://localhost:8080/"
        },
        "id": "-7dQ6IVhkpkY",
        "outputId": "16f62021-9523-44c1-a91b-9ad9399c4f0e"
      },
      "execution_count": 10,
      "outputs": [
        {
          "output_type": "stream",
          "name": "stdout",
          "text": [
            "\u001b[01m\u001b[Ktest.cpp:\u001b[m\u001b[K In function ‘\u001b[01m\u001b[Kint main()\u001b[m\u001b[K’:\n",
            "\u001b[01m\u001b[Ktest.cpp:3:12:\u001b[m\u001b[K \u001b[01;35m\u001b[Kwarning: \u001b[m\u001b[Kformat ‘\u001b[01m\u001b[K%f\u001b[m\u001b[K’ expects argument of type ‘\u001b[01m\u001b[Kdouble\u001b[m\u001b[K’, but argument 2 has type ‘\u001b[01m\u001b[Kint\u001b[m\u001b[K’ [\u001b[01;35m\u001b[K\u001b]8;;https://gcc.gnu.org/onlinedocs/gcc/Warning-Options.html#index-Wformat=\u0007-Wformat=\u001b]8;;\u0007\u001b[m\u001b[K]\n",
            "    3 |   printf(\"\u001b[01;35m\u001b[K%f\u001b[m\u001b[K\",  \u001b[32m\u001b[K1\u001b[m\u001b[K);\n",
            "      |           \u001b[01;35m\u001b[K~^\u001b[m\u001b[K    \u001b[32m\u001b[K~\u001b[m\u001b[K\n",
            "      |            \u001b[01;35m\u001b[K|\u001b[m\u001b[K    \u001b[32m\u001b[K|\u001b[m\u001b[K\n",
            "      |            \u001b[01;35m\u001b[K|\u001b[m\u001b[K    \u001b[32m\u001b[Kint\u001b[m\u001b[K\n",
            "      |            \u001b[01;35m\u001b[Kdouble\u001b[m\u001b[K\n",
            "      |           \u001b[32m\u001b[K%d\u001b[m\u001b[K\n",
            "0.000000"
          ]
        },
        {
          "output_type": "execute_result",
          "data": {
            "text/plain": []
          },
          "metadata": {},
          "execution_count": 10
        }
      ]
    },
    {
      "cell_type": "code",
      "source": [
        "%%writefile test.cpp\n",
        "#include <stdio.h>\n",
        "int main() {\n",
        "  printf(\"%f\",  1.0);\n",
        "}"
      ],
      "metadata": {
        "colab": {
          "base_uri": "https://localhost:8080/"
        },
        "id": "dL_yI4Qrkq82",
        "outputId": "07e339ec-072a-424d-eea5-c330e6ae188d"
      },
      "execution_count": 7,
      "outputs": [
        {
          "output_type": "stream",
          "name": "stdout",
          "text": [
            "Overwriting test.cpp\n"
          ]
        }
      ]
    },
    {
      "cell_type": "code",
      "source": [
        "#C 컴파일\n",
        "%%shell\n",
        "g++ test.cpp -o testexe\n",
        "./testexe"
      ],
      "metadata": {
        "colab": {
          "base_uri": "https://localhost:8080/"
        },
        "id": "XmHd9DBSkzsM",
        "outputId": "5416d565-9a83-40fb-c8e5-10919b186b2f"
      },
      "execution_count": 8,
      "outputs": [
        {
          "output_type": "stream",
          "name": "stdout",
          "text": [
            "1.000000"
          ]
        },
        {
          "output_type": "execute_result",
          "data": {
            "text/plain": []
          },
          "metadata": {},
          "execution_count": 8
        }
      ]
    },
    {
      "cell_type": "markdown",
      "source": [
        "실수형 변수를 출력하기 위해서 %f를 사용<br/>\n",
        "printf에서 %f를 이용해 수를 출력 할 때 소수점을 뒤에 붙여 주어야함.\n"
      ],
      "metadata": {
        "id": "GlGJeu9DlHy0"
      }
    },
    {
      "cell_type": "code",
      "source": [
        "# printf 형식\n",
        "%%writefile test.cpp\n",
        "#include <stdio.h>\n",
        "int main() {\n",
        "  float a = 3.147592f;\n",
        "  double b = 3.141592;\n",
        "  int c = 123;\n",
        "  printf(\"a : %.2f \\n\", a);\n",
        "  printf(\"c : %5d \\n\", c);\n",
        "  printf(\"b : %6.3f \\n\", b);\n",
        "  return 0;\n",
        "}"
      ],
      "metadata": {
        "colab": {
          "base_uri": "https://localhost:8080/"
        },
        "id": "WAxaQKSGk9js",
        "outputId": "5a5eac65-3e89-4342-e99a-f6acc8e29b63"
      },
      "execution_count": 11,
      "outputs": [
        {
          "output_type": "stream",
          "name": "stdout",
          "text": [
            "Overwriting test.cpp\n"
          ]
        }
      ]
    },
    {
      "cell_type": "code",
      "source": [
        "#C 컴파일\n",
        "%%shell\n",
        "g++ test.cpp -o testexe\n",
        "./testexe"
      ],
      "metadata": {
        "colab": {
          "base_uri": "https://localhost:8080/"
        },
        "id": "r-AfpYFDmFb2",
        "outputId": "a4237be7-3e00-44c4-d8a2-6abb0ffa47b6"
      },
      "execution_count": 12,
      "outputs": [
        {
          "output_type": "stream",
          "name": "stdout",
          "text": [
            "a : 3.15 \n",
            "c :   123 \n",
            "b :  3.142 \n"
          ]
        },
        {
          "output_type": "execute_result",
          "data": {
            "text/plain": []
          },
          "metadata": {},
          "execution_count": 12
        }
      ]
    },
    {
      "cell_type": "markdown",
      "source": [
        "``` printf(\"a : %.2f \\n\", a); ```<br/>\n",
        "%f와 달리 %.2f에서 .2는 무조건 소수점 이하 둘째 자리 까지 표시 하라는 뜻\n"
      ],
      "metadata": {
        "id": "qGT6We9kmLr1"
      }
    },
    {
      "cell_type": "markdown",
      "source": [
        "```printf(\"c : %5d \\n\", c);```<br/>\n",
        "%d 사이에 5는 숫자의 자리수를 되도록 5자리로 맞추라는 뜻<br/>\n"
      ],
      "metadata": {
        "id": "LONDr0D-mltt"
      }
    },
    {
      "cell_type": "markdown",
      "source": [
        "```printf(\"b : %6.3f \\n\", b);```<br/>\n",
        "전체 자리수는 6자리로 맞추되 반드시 소수점 이하 3째 자리 까지만 표시한다는 뜻"
      ],
      "metadata": {
        "id": "lvPmlkJOm7zv"
      }
    },
    {
      "cell_type": "code",
      "source": [
        "from sre_constants import MIN_REPEAT\n",
        "# 변수 선언 예시들\n",
        "\n",
        "int a, b, c, hi;\n",
        "float d, e, f, bravo;\n",
        "double g, programming;\n",
        "long h;\n",
        "short i;\n",
        "char j, k, hello, mineral"
      ],
      "metadata": {
        "colab": {
          "base_uri": "https://localhost:8080/",
          "height": 147
        },
        "id": "hrexrqS1mGsk",
        "outputId": "5f888476-5aef-4bef-c241-633d81377742"
      },
      "execution_count": 13,
      "outputs": [
        {
          "output_type": "error",
          "ename": "SyntaxError",
          "evalue": "ignored",
          "traceback": [
            "\u001b[0;36m  File \u001b[0;32m\"<ipython-input-13-556416b8823b>\"\u001b[0;36m, line \u001b[0;32m4\u001b[0m\n\u001b[0;31m    int a, b, c, hi;\u001b[0m\n\u001b[0m        ^\u001b[0m\n\u001b[0;31mSyntaxError\u001b[0m\u001b[0;31m:\u001b[0m invalid syntax\n"
          ]
        }
      ]
    },
    {
      "cell_type": "code",
      "source": [
        "# 변수 선언시 주의해야 할 점\n",
        "\n",
        "%%writefile test.cpp\n",
        "#include <stdio.h>\n",
        "int main() {\n",
        "  int a, A // a 와 A 는 각기 다른 변수\n",
        "  int lhi;\n",
        "  // (오류) 숫자가 앞에 위치할 수 없음.\n",
        "  int hi123, hi123i, hi1234324; // 숫자가 뒤에 위치하면 괜찮음.\n",
        "  int 한글이좋아;\n",
        "  /*\n",
        "  (오류)\n",
        "  변수는 오직 알파벳, 숫자, 그리고 _ (underscore)로만으로 이루어져야 함. */\n",
        "  int space bar;\n",
        "  /*\n",
        "  (오류)\n",
        "  변수의 이름에는 띄어쓰기하면 안됨. 그 대신 _ 로 대체하는 것이 읽기 좋음. */\n",
        "  int space_bar; // 이건 괜찮음\n",
        "  int enum, long, double, int;\n",
        "  /* (오류)\n",
        "    지금 나열한 이름들은 모두 '예약어' 로 C 언어에서 이미 쓰이고 있는\n",
        "    것들임. 따라서 이러한 것들은 쓰면 안됨. 이를 구분하는 방법은\n",
        "    예약어들을 모두 외우거나 '파란색' 으로 표시된 것들은 모두 예약어라\n",
        "    볼 수 있음 */\n",
        "\n",
        "  return 0;\n",
        "}"
      ],
      "metadata": {
        "colab": {
          "base_uri": "https://localhost:8080/"
        },
        "id": "AI6nDGVLntcu",
        "outputId": "c380c2cb-bd1e-46b4-d99f-8782dbdf2890"
      },
      "execution_count": 14,
      "outputs": [
        {
          "output_type": "stream",
          "name": "stdout",
          "text": [
            "Overwriting test.cpp\n"
          ]
        }
      ]
    },
    {
      "cell_type": "markdown",
      "source": [
        "정리<br/>\n",
        "1. 숫자가 앞에 위치하면 안됨\n",
        "2. 변수명은 오직 영어, 숫자, _ 로 만 구성되어야 함\n",
        "3. 변수의 이름에 띄어쓰기가 있으면 안됨.\n",
        "4. 변수의 이름이 C 언어 예약어 이면 안됨 (보통 다른 색깔로 표시 됨)"
      ],
      "metadata": {
        "id": "TbCdVybZpRlG"
      }
    },
    {
      "cell_type": "markdown",
      "source": [
        "좋은 변수 이름의 기준\n",
        "1. 무슨 데이터를 보관하는지 알 수 있어야 한다.\n",
        "2. (되도록이면) 영어로 읽히도록 해야함.\n",
        "3. 한 가지 스타일을 고수하자."
      ],
      "metadata": {
        "id": "Xlwcuxw1pwsl"
      }
    },
    {
      "cell_type": "code",
      "source": [
        "# 3 예시\n",
        "int this_is_some_variable;\n",
        "int ThisIsSomeVariable;"
      ],
      "metadata": {
        "colab": {
          "base_uri": "https://localhost:8080/",
          "height": 147
        },
        "id": "FCTo07HYpODj",
        "outputId": "0b6bc74f-55ed-4ac2-d0c1-a0b6e3e821f6"
      },
      "execution_count": 15,
      "outputs": [
        {
          "output_type": "error",
          "ename": "SyntaxError",
          "evalue": "ignored",
          "traceback": [
            "\u001b[0;36m  File \u001b[0;32m\"<ipython-input-15-2d6575d261ca>\"\u001b[0;36m, line \u001b[0;32m2\u001b[0m\n\u001b[0;31m    int this_is_some_variable;\u001b[0m\n\u001b[0m        ^\u001b[0m\n\u001b[0;31mSyntaxError\u001b[0m\u001b[0;31m:\u001b[0m invalid syntax\n"
          ]
        }
      ]
    },
    {
      "cell_type": "markdown",
      "source": [
        "_를 사용하든, Camel case를 사용하든 하나만 사용함<br/>\n",
        "두 가지를 혼용하면 코드를 읽는 사람에서 혼란스러움"
      ],
      "metadata": {
        "id": "t5GIyKLTqL5K"
      }
    },
    {
      "cell_type": "code",
      "source": [],
      "metadata": {
        "id": "55BTsVDkqK_8"
      },
      "execution_count": null,
      "outputs": []
    }
  ]
}
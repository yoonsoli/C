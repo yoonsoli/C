{
  "nbformat": 4,
  "nbformat_minor": 0,
  "metadata": {
    "colab": {
      "provenance": [],
      "authorship_tag": "ABX9TyPyW3Qg9qHRAJW0UfKgpA23",
      "include_colab_link": true
    },
    "kernelspec": {
      "name": "python3",
      "display_name": "Python 3"
    },
    "language_info": {
      "name": "python"
    }
  },
  "cells": [
    {
      "cell_type": "markdown",
      "metadata": {
        "id": "view-in-github",
        "colab_type": "text"
      },
      "source": [
        "<a href=\"https://colab.research.google.com/github/yoonsoli/C/blob/main/C_Variable.ipynb\" target=\"_parent\"><img src=\"https://colab.research.google.com/assets/colab-badge.svg\" alt=\"Open In Colab\"/></a>"
      ]
    },
    {
      "cell_type": "markdown",
      "source": [
        "# 변수"
      ],
      "metadata": {
        "id": "hG37XE2Zr8yP"
      }
    },
    {
      "cell_type": "markdown",
      "source": [
        "### 변수 선언"
      ],
      "metadata": {
        "id": "zp6WJur1u54E"
      }
    },
    {
      "cell_type": "code",
      "execution_count": 9,
      "metadata": {
        "colab": {
          "base_uri": "https://localhost:8080/"
        },
        "id": "f13JaW0YrtQV",
        "outputId": "40cae1e3-9a6e-4b37-b5bd-cb626e2502b9"
      },
      "outputs": [
        {
          "output_type": "stream",
          "name": "stdout",
          "text": [
            "Overwriting test.cpp\n"
          ]
        }
      ],
      "source": [
        "%%writefile test.cpp\n",
        "#include <stdio.h>\n",
        "int main()\n",
        "{\n",
        "    int a;  // a라는 변수 선언\n",
        "    a = 10; // a에 10을 집어 넣음\n",
        "    printf(\"a 의 값은 : %d \\n\", a); // %d는 a의 값 (정확히는 처음\"\"다음에 오는 첫 번째 변수)을 10진수로 출력하라는 말\n",
        "    return 0;\n",
        "}"
      ]
    },
    {
      "cell_type": "code",
      "source": [
        "#C 컴파일\n",
        "%%shell\n",
        "g++ test.cpp -o testexe\n",
        "./testexe"
      ],
      "metadata": {
        "colab": {
          "base_uri": "https://localhost:8080/"
        },
        "id": "eQuKl88LsmVA",
        "outputId": "30e0d4be-6aa4-487f-afbe-c39699bdda68"
      },
      "execution_count": 10,
      "outputs": [
        {
          "output_type": "stream",
          "name": "stdout",
          "text": [
            "a 의 값은 : 10 \n"
          ]
        },
        {
          "output_type": "execute_result",
          "data": {
            "text/plain": []
          },
          "metadata": {},
          "execution_count": 10
        }
      ]
    },
    {
      "cell_type": "code",
      "source": [
        "# %d 활용 예제\n",
        "\n",
        "%%writefile test.cpp\n",
        "#include <stdio.h>\n",
        "int main()\n",
        "{\n",
        "   int a;\n",
        "   a = 127;\n",
        "   printf(\"a 의 값은 %d 진수로 %o 입니다. \\n\", 8, a);\n",
        "   printf(\"a 의 값은 %d 진수로 %d 입니다. \\n\", 10, a);\n",
        "   printf(\"a 의 값은 %d 진수로 %x 입니다. \\n\", 16, a);\n",
        "   return 0;\n",
        "}"
      ],
      "metadata": {
        "colab": {
          "base_uri": "https://localhost:8080/"
        },
        "id": "_n0gXaNWsqMW",
        "outputId": "6086f712-f8b3-455e-802c-56de4bbdbe41"
      },
      "execution_count": 13,
      "outputs": [
        {
          "output_type": "stream",
          "name": "stdout",
          "text": [
            "Overwriting test.cpp\n"
          ]
        }
      ]
    },
    {
      "cell_type": "markdown",
      "source": [
        "첫번째 코드에서 %d에 8, %o에 a(127)이 들어감 <br/>\n",
        "%o는 a의 값을 8진수로 출력하라는 뜻 <br/>\n",
        "%x는 a의 값을 16진수로 출력하라는 뜻"
      ],
      "metadata": {
        "id": "ut_2UDXButJZ"
      }
    },
    {
      "cell_type": "code",
      "source": [
        "#C 컴파일\n",
        "%%shell\n",
        "g++ test.cpp -o testexe\n",
        "./testexe"
      ],
      "metadata": {
        "colab": {
          "base_uri": "https://localhost:8080/"
        },
        "id": "pyngZMShufPQ",
        "outputId": "734eadc1-1518-4543-d3b3-1e8f989fb77b"
      },
      "execution_count": 14,
      "outputs": [
        {
          "output_type": "stream",
          "name": "stdout",
          "text": [
            "a 의 값은 8 진수로 177 입니다. \n",
            "a 의 값은 10 진수로 127 입니다. \n",
            "a 의 값은 16 진수로 7f 입니다. \n"
          ]
        },
        {
          "output_type": "execute_result",
          "data": {
            "text/plain": []
          },
          "metadata": {},
          "execution_count": 14
        }
      ]
    },
    {
      "cell_type": "code",
      "source": [],
      "metadata": {
        "id": "opHnisE7ugrJ"
      },
      "execution_count": null,
      "outputs": []
    }
  ]
}